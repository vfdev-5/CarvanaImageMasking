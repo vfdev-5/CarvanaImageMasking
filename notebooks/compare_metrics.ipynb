{
 "cells": [
  {
   "cell_type": "markdown",
   "metadata": {},
   "source": [
    "# Compare Jaccard, Dice, Cosine metrics, AD * Gradient\n",
    "\n",
    "- [Jaccard index](https://en.wikipedia.org/wiki/Jaccard_index)\n",
    "- [Dice coefficient](https://en.wikipedia.org/wiki/S%C3%B8rensen%E2%80%93Dice_coefficient)\n",
    "- [Cosine similarity](https://en.wikipedia.org/wiki/Cosine_similarity)\n",
    "- [AD * Gradient](http://new.owieczka.net/wp-content/publication/2009/3dtvcon-bp.pdf)"
   ]
  },
  {
   "cell_type": "code",
   "execution_count": 1,
   "metadata": {
    "collapsed": true
   },
   "outputs": [],
   "source": [
    "# https://ipython.org/ipython-doc/3/config/extensions/autoreload.html\n",
    "%load_ext autoreload\n",
    "%autoreload 2"
   ]
  },
  {
   "cell_type": "code",
   "execution_count": 2,
   "metadata": {
    "collapsed": true
   },
   "outputs": [],
   "source": [
    "import os\n",
    "import sys\n",
    "from glob import glob\n",
    "from datetime import datetime\n",
    "import warnings\n",
    "warnings.filterwarnings(\"ignore\")\n",
    "\n",
    "import shutil\n",
    "\n",
    "# Project\n",
    "project_common_path = os.path.dirname('.')\n",
    "project_common_path = os.path.abspath(os.path.join(project_common_path, '..', 'common'))\n",
    "if not project_common_path in sys.path:\n",
    "    sys.path.append(project_common_path)\n"
   ]
  },
  {
   "cell_type": "code",
   "execution_count": 6,
   "metadata": {
    "collapsed": true
   },
   "outputs": [],
   "source": [
    "import numpy as np\n",
    "import matplotlib.pylab as plt\n",
    "%matplotlib inline"
   ]
  },
  {
   "cell_type": "code",
   "execution_count": 72,
   "metadata": {
    "collapsed": true
   },
   "outputs": [],
   "source": [
    "def jaccard_index(y_true, y_pred, verbose=0):\n",
    "    \"\"\"\n",
    "    Jaccard index = |A ^ B| / |A U B|\n",
    "                  = |A ^ B| / (|A| + |B| - |A ^ B|)\n",
    "    if A = B = empty => 1\n",
    "    \n",
    "    \n",
    "    :param y_true: ndarray of shape (N,H,W,1), dtype np.uint8 and should be binary: 0, 1\n",
    "    :param y_pred: ndarray of shape (N,H,W,1), dtype np.uint8 and should be binary: 0, 1\n",
    "    \"\"\"        \n",
    "    intersection = np.sum(y_true * y_pred, axis=(1,2,3))\n",
    "    union = np.sum(y_true, axis=(1,2,3)) + np.sum(y_pred, axis=(1,2,3)) - intersection    \n",
    "    index = (intersection + 1e-15) / (union + 1e-15)\n",
    "    if verbose > 0:\n",
    "        print(\"index: \", index)\n",
    "    return np.mean(index, axis=0)\n",
    "\n",
    "\n",
    "def dice_coeff(y_true, y_pred, verbose=0):\n",
    "    \"\"\"\n",
    "    Sorensen-Dice coefficient:\n",
    "    \n",
    "    dice = 2 * |A ^ B| / (|A| + |B|)\n",
    "        \n",
    "    :param y_true: ndarray of shape (N,H,W,1), dtype np.uint8 and should be binary: 0, 1\n",
    "    :param y_pred: ndarray of shape (N,H,W,1), dtype np.uint8 and should be binary: 0, 1\n",
    "    \"\"\"        \n",
    "    intersection = 2.0 * np.sum(y_true * y_pred, axis=(1,2,3))\n",
    "    denom = np.sum(y_true, axis=(1,2,3)) + np.sum(y_pred, axis=(1,2,3))\n",
    "    coeff = intersection / (denom + 1e-15)    \n",
    "    if verbose > 0:\n",
    "        print(\"coeff: \", coeff)\n",
    "    return np.mean(coeff, axis=0)\n",
    "\n",
    "\n",
    "def cosine_similarity(y_true, y_pred, verbose=0):\n",
    "    \"\"\"\n",
    "    Cosine similarity:\n",
    "    \n",
    "    res = |A ^ B| / (|A| * |B|)\n",
    "        \n",
    "    :param y_true: ndarray of shape (N,H,W,1), dtype np.uint8 and should be binary: 0, 1\n",
    "    :param y_pred: ndarray of shape (N,H,W,1), dtype np.uint8 and should be binary: 0, 1\n",
    "    \"\"\"\n",
    "    intersection = np.sum(y_true * y_pred, axis=(1,2,3))\n",
    "    denom = np.sum(y_true, axis=(1,2,3)) * np.sum(y_pred, axis=(1,2,3))\n",
    "    coeff = intersection / (denom + 1e-15)    \n",
    "    if verbose > 0:\n",
    "        print(\"coeff: \", coeff)\n",
    "    return np.mean(coeff, axis=0)\n",
    "\n",
    "    "
   ]
  },
  {
   "cell_type": "markdown",
   "metadata": {},
   "source": [
    "Basic checks\n",
    "\n",
    "```\n",
    "y_true and y_pred\n",
    "\n",
    "    x x x x x\n",
    "    x x + + + O \n",
    "    x x + + + O\n",
    "    x x + + + O\n",
    "        O O O O\n",
    "        O O O O\n",
    "\n",
    "```\n",
    "Jaccard index = 9 / (20 + 20 - 9) = 0.2903225806451613\n",
    "\n",
    "Dice coefficient = 2 * 9 / (20 + 20) = 0.45"
   ]
  },
  {
   "cell_type": "code",
   "execution_count": 81,
   "metadata": {
    "collapsed": true
   },
   "outputs": [],
   "source": [
    "y_true = np.zeros((6, 32, 32, 1), dtype=np.uint8)\n",
    "y_true[0, :, :, 0] = 0\n",
    "y_true[1, :5, :5, 0] = 1\n",
    "y_true[2, 5:9, 5:10, 0] = 1\n",
    "y_true[3, 5:9, 5:10, 0] = 1\n",
    "y_true[4:, :, :, 0] = 0\n",
    "y_true[5, 5:10, 6:10, 0] = 1\n",
    "\n",
    "\n",
    "\n",
    "y_pred = 0.2 * np.ones((6, 32, 32, 1), dtype=np.float32)\n",
    "y_pred[0, 6:11, 7:11, 0] = 0.75\n",
    "y_pred[1, 10:15, 10:15, 0] = 0.75\n",
    "y_pred[2, 6:11, 7:11, 0] = 0.75\n",
    "y_pred[3, 5:10, 6:10, 0] = 0.75\n",
    "y_pred[4, :, :, 0] = 0\n",
    "y_pred[5, 5:10, 6:10, 0] = 0.75\n",
    "\n",
    "y_pred = (y_pred > 0.5).astype(np.uint8)"
   ]
  },
  {
   "cell_type": "code",
   "execution_count": 82,
   "metadata": {},
   "outputs": [
    {
     "data": {
      "image/png": "[encoded data removed]",
      "text/plain": [
       "<matplotlib.figure.Figure at 0xfe6fcc0>"
      ]
     },
     "metadata": {},
     "output_type": "display_data"
    }
   ],
   "source": [
    "plt.figure(figsize=(12, 4))\n",
    "\n",
    "n = len(y_true)\n",
    "\n",
    "for i in range(n):\n",
    "    plt.subplot(1,n,i+1)\n",
    "    plt.title(\"y_true[%i,...] ^ y_pred[%i,...]\" % (i, i))\n",
    "    plt.imshow(y_true[i,:,:,0] + y_pred[i,:,:,0])"
   ]
  },
  {
   "cell_type": "code",
   "execution_count": 83,
   "metadata": {},
   "outputs": [
    {
     "name": "stdout",
     "output_type": "stream",
     "text": [
      "index:  [  5.00000000e-17   2.00000000e-17   2.90322581e-01   6.66666667e-01\n",
      "   1.00000000e+00   1.00000000e+00]\n",
      "coeff:  [ 0.    0.    0.45  0.8   0.    1.  ]\n",
      "coeff:  [ 0.      0.      0.0225  0.04    0.      0.05  ]\n"
     ]
    },
    {
     "data": {
      "text/plain": [
       "(0.49283154121863798, 0.375, 0.018749999999999999)"
      ]
     },
     "execution_count": 83,
     "metadata": {},
     "output_type": "execute_result"
    }
   ],
   "source": [
    "jaccard_index(y_true, y_pred, verbose=1), dice_coeff(y_true, y_pred, verbose=1), cosine_similarity(y_true, y_pred, verbose=1)"
   ]
  },
  {
   "cell_type": "code",
   "execution_count": null,
   "metadata": {
    "collapsed": true
   },
   "outputs": [],
   "source": []
  },
  {
   "cell_type": "code",
   "execution_count": null,
   "metadata": {
    "collapsed": true
   },
   "outputs": [],
   "source": []
  },
  {
   "cell_type": "code",
   "execution_count": null,
   "metadata": {
    "collapsed": true
   },
   "outputs": [],
   "source": []
  },
  {
   "cell_type": "code",
   "execution_count": null,
   "metadata": {
    "collapsed": true
   },
   "outputs": [],
   "source": []
  },
  {
   "cell_type": "code",
   "execution_count": null,
   "metadata": {
    "collapsed": true
   },
   "outputs": [],
   "source": []
  },
  {
   "cell_type": "code",
   "execution_count": 5,
   "metadata": {},
   "outputs": [],
   "source": [
    "from data_utils import train_ids\n",
    "from image_utils import get_image_data"
   ]
  },
  {
   "cell_type": "code",
   "execution_count": null,
   "metadata": {
    "collapsed": true
   },
   "outputs": [],
   "source": [
    "index = 100"
   ]
  },
  {
   "cell_type": "code",
   "execution_count": null,
   "metadata": {
    "collapsed": true
   },
   "outputs": [],
   "source": [
    "img = get_image_data(train_ids[index], \"Train\")\n",
    "img2 = get_image_data(train_ids[index + 10], \"Train\")\n",
    "mask = get_image_data(train_ids[index], \"Train\")"
   ]
  },
  {
   "cell_type": "code",
   "execution_count": null,
   "metadata": {
    "collapsed": true
   },
   "outputs": [],
   "source": []
  },
  {
   "cell_type": "code",
   "execution_count": null,
   "metadata": {
    "collapsed": true
   },
   "outputs": [],
   "source": []
  },
  {
   "cell_type": "code",
   "execution_count": null,
   "metadata": {
    "collapsed": true
   },
   "outputs": [],
   "source": []
  }
 ],
 "metadata": {
  "kernelspec": {
   "display_name": "Python 3",
   "language": "python",
   "name": "python3"
  },
  "language_info": {
   "codemirror_mode": {
    "name": "ipython",
    "version": 3
   },
   "file_extension": ".py",
   "mimetype": "text/x-python",
   "name": "python",
   "nbconvert_exporter": "python",
   "pygments_lexer": "ipython3",
   "version": "3.6.1"
  }
 },
 "nbformat": 4,
 "nbformat_minor": 2
}
